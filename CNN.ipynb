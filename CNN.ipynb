{
  "nbformat": 4,
  "nbformat_minor": 0,
  "metadata": {
    "colab": {
      "provenance": [],
      "machine_shape": "hm",
      "gpuType": "A100"
    },
    "kernelspec": {
      "name": "python3",
      "display_name": "Python 3"
    },
    "language_info": {
      "name": "python"
    },
    "accelerator": "GPU"
  },
  "cells": [
    {
      "cell_type": "markdown",
      "source": [
        "**Custom Convolutional Neural Network**\n",
        "\n",
        "\n",
        "'Tree CNN'"
      ],
      "metadata": {
        "id": "quAawtSIbX0s"
      }
    },
    {
      "cell_type": "code",
      "source": [
        "import os\n",
        "import zipfile\n",
        "import random\n",
        "import torch\n",
        "import time\n",
        "from PIL import Image\n",
        "import torch.nn as nn\n",
        "import torch.optim as optim\n",
        "import torchvision.transforms as transforms\n",
        "import torchvision.datasets as datasets\n",
        "from torch.utils.data import DataLoader\n",
        "import matplotlib.pyplot as plt\n",
        "import numpy as np\n",
        "import seaborn as sns\n",
        "from google.colab import files\n",
        "from sklearn.metrics import confusion_matrix, classification_report\n",
        "from tensorflow.keras.preprocessing.image import ImageDataGenerator"
      ],
      "metadata": {
        "id": "oUaA908fIkS0"
      },
      "execution_count": 46,
      "outputs": []
    },
    {
      "cell_type": "code",
      "source": [
        "files.upload()"
      ],
      "metadata": {
        "collapsed": true,
        "id": "zRjd2QjrbqwB"
      },
      "execution_count": null,
      "outputs": []
    },
    {
      "cell_type": "code",
      "source": [
        "!mkdir -p ~/.kaggle\n",
        "!mv kaggle.json ~/.kaggle/\n",
        "!chmod 600 ~/.kaggle/kaggle.json\n"
      ],
      "metadata": {
        "id": "Tw7FXCRJeRwD"
      },
      "execution_count": 48,
      "outputs": []
    },
    {
      "cell_type": "code",
      "source": [
        "!kaggle datasets download -d mcagriaksoy/trees-in-satellite-imagery"
      ],
      "metadata": {
        "colab": {
          "base_uri": "https://localhost:8080/"
        },
        "id": "pK74yzd4b5cl",
        "outputId": "5f370ca5-a2cb-4be6-f5e6-06c8f7436102"
      },
      "execution_count": 49,
      "outputs": [
        {
          "output_type": "stream",
          "name": "stdout",
          "text": [
            "Warning: Looks like you're using an outdated API Version, please consider updating (server 1.7.4.2 / client 1.6.17)\n",
            "Dataset URL: https://www.kaggle.com/datasets/mcagriaksoy/trees-in-satellite-imagery\n",
            "License(s): CC-BY-NC-SA-4.0\n",
            "trees-in-satellite-imagery.zip: Skipping, found more recently modified local copy (use --force to force download)\n"
          ]
        }
      ]
    },
    {
      "cell_type": "code",
      "source": [
        "# Unzip the dataset\n",
        "with zipfile.ZipFile(\"trees-in-satellite-imagery.zip\", \"r\") as zip_ref:\n",
        "    zip_ref.extractall(\"trees_dataset\")\n",
        "\n",
        "print(\"Dataset extracted successfully!\")"
      ],
      "metadata": {
        "colab": {
          "base_uri": "https://localhost:8080/"
        },
        "id": "8bvVS4nSb_7Y",
        "outputId": "36a6000c-b5fc-4cec-cb08-ce1ca5d1a25e"
      },
      "execution_count": 50,
      "outputs": [
        {
          "output_type": "stream",
          "name": "stdout",
          "text": [
            "Dataset extracted successfully!\n"
          ]
        }
      ]
    },
    {
      "cell_type": "code",
      "source": [
        "dataset_path = \"trees_dataset\"\n",
        "\n",
        "# List the contents\n",
        "print(\"Dataset folders:\", os.listdir(dataset_path))"
      ],
      "metadata": {
        "colab": {
          "base_uri": "https://localhost:8080/"
        },
        "id": "xEqLHNHwcIPe",
        "outputId": "36047ac6-8ffc-4817-de6c-4fb2f1a88eae"
      },
      "execution_count": 51,
      "outputs": [
        {
          "output_type": "stream",
          "name": "stdout",
          "text": [
            "Dataset folders: ['Trees in Satellite Imagery']\n"
          ]
        }
      ]
    },
    {
      "cell_type": "code",
      "source": [
        "dataset_path = \"trees_dataset/Trees in Satellite Imagery\"\n",
        "\n",
        "# List the first few files\n",
        "print(\"Files in dataset:\", os.listdir(dataset_path)[:10])\n"
      ],
      "metadata": {
        "colab": {
          "base_uri": "https://localhost:8080/"
        },
        "id": "dWBOVeG-foNZ",
        "outputId": "184f90ee-07aa-4e16-a0cd-c1479108d74a"
      },
      "execution_count": 52,
      "outputs": [
        {
          "output_type": "stream",
          "name": "stdout",
          "text": [
            "Files in dataset: ['Trees', 'NoTrees']\n"
          ]
        }
      ]
    },
    {
      "cell_type": "code",
      "source": [
        "# Create ImageDataGenerator with rescaling\n",
        "datagen = ImageDataGenerator(rescale=1./255, validation_split=0.2)\n",
        "\n",
        "# Load dataset\n",
        "train_data = datagen.flow_from_directory(\n",
        "    dataset_path,\n",
        "    target_size=(224, 224),\n",
        "    batch_size=32,\n",
        "    class_mode=\"binary\",  # Binary classification (Tree vs No Tree)\n",
        "    subset=\"training\"\n",
        ")\n",
        "\n",
        "val_data = datagen.flow_from_directory(\n",
        "    dataset_path,\n",
        "    target_size=(224, 224),\n",
        "    batch_size=32,\n",
        "    class_mode=\"binary\",\n",
        "    subset=\"validation\"\n",
        ")\n",
        "\n",
        "# Print class labels\n",
        "print(\"Class Indices:\", train_data.class_indices)  # {'No Tree': 0, 'Tree': 1}"
      ],
      "metadata": {
        "colab": {
          "base_uri": "https://localhost:8080/"
        },
        "id": "c3hvjYslcXFd",
        "outputId": "c389a665-438b-4903-a8ba-c6ea8325aab8"
      },
      "execution_count": 53,
      "outputs": [
        {
          "output_type": "stream",
          "name": "stdout",
          "text": [
            "Found 8320 images belonging to 2 classes.\n",
            "Found 2080 images belonging to 2 classes.\n",
            "Class Indices: {'NoTrees': 0, 'Trees': 1}\n"
          ]
        }
      ]
    },
    {
      "cell_type": "code",
      "source": [
        "# Define transformations (resize, normalize)\n",
        "transform = transforms.Compose([\n",
        "    transforms.Resize((224, 224)),  # Resize images\n",
        "    transforms.ToTensor(),  # Convert to PyTorch tensors\n",
        "    transforms.Normalize(mean=[0.5], std=[0.5])  # Normalize pixel values\n",
        "])\n",
        "\n",
        "# Define dataset path\n",
        "dataset_path = \"trees_dataset/Trees in Satellite Imagery\"\n",
        "\n",
        "# Load dataset with ImageFolder\n",
        "dataset = datasets.ImageFolder(root=dataset_path, transform=transform)\n",
        "\n",
        "# Split dataset into training (80%) and validation (20%)\n",
        "train_size = int(0.8 * len(dataset))\n",
        "val_size = len(dataset) - train_size\n",
        "train_dataset, val_dataset = torch.utils.data.random_split(dataset, [train_size, val_size])\n",
        "\n",
        "# Create DataLoaders\n",
        "train_loader = DataLoader(train_dataset, batch_size=32, shuffle=True, num_workers=2)\n",
        "val_loader = DataLoader(val_dataset, batch_size=32, shuffle=False, num_workers=2)\n",
        "\n",
        "# Check class labels\n",
        "print(\"Class Labels:\", dataset.class_to_idx)\n",
        "print(f\"Dataset split: {train_size} training images, {val_size} validation images\")"
      ],
      "metadata": {
        "colab": {
          "base_uri": "https://localhost:8080/"
        },
        "id": "2CqIQmFElnMy",
        "outputId": "ef5539f9-f427-41e3-dd4a-016785154116"
      },
      "execution_count": 54,
      "outputs": [
        {
          "output_type": "stream",
          "name": "stdout",
          "text": [
            "Class Labels: {'NoTrees': 0, 'Trees': 1}\n",
            "Dataset split: 8320 training images, 2080 validation images\n"
          ]
        }
      ]
    },
    {
      "cell_type": "code",
      "source": [
        "\n",
        "class TreeCNN(nn.Module):\n",
        "    def __init__(self):\n",
        "        super(TreeCNN, self).__init__()\n",
        "\n",
        "        # Convolutional layers with BatchNorm\n",
        "        self.conv1 = nn.Conv2d(3, 32, kernel_size=3, padding=1)\n",
        "        self.bn1 = nn.BatchNorm2d(32)\n",
        "\n",
        "        self.conv2 = nn.Conv2d(32, 64, kernel_size=3, padding=1)\n",
        "        self.bn2 = nn.BatchNorm2d(64)\n",
        "\n",
        "        self.conv3 = nn.Conv2d(64, 128, kernel_size=3, padding=1)\n",
        "        self.bn3 = nn.BatchNorm2d(128)\n",
        "\n",
        "        self.conv4 = nn.Conv2d(128, 256, kernel_size=3, padding=1)  # Extra Conv Layer\n",
        "        self.bn4 = nn.BatchNorm2d(256)\n",
        "\n",
        "\n",
        "        # Pooling & Dropout\n",
        "        self.pool = nn.MaxPool2d(2, 2)\n",
        "        self.dropout = nn.Dropout(0.5)  # Prevent overfitting\n",
        "\n",
        "        # Adaptive Pooling before FC layers (instead of manually flattening)\n",
        "        self.global_avg_pool = nn.AdaptiveAvgPool2d((1, 1))\n",
        "\n",
        "        # Fully connected layers\n",
        "        self.fc1 = nn.Linear(256 * 14 * 14, 512)\n",
        "        self.fc2 = nn.Linear(512, 2)  # 2 output classes (Tree/NoTree)\n",
        "\n",
        "        self.relu = nn.ReLU()\n",
        "\n",
        "    def forward(self, x):\n",
        "        x = self.pool(self.relu(self.bn1(self.conv1(x))))\n",
        "        x = self.pool(self.relu(self.bn2(self.conv2(x))))\n",
        "        x = self.pool(self.relu(self.bn3(self.conv3(x))))\n",
        "        x = self.pool(self.relu(self.bn4(self.conv4(x))))\n",
        "\n",
        "\n",
        "        x = x.view(-1, 256 * 14 * 14)\n",
        "\n",
        "        x = torch.flatten(x, 1)  # Flatten only batch dimension\n",
        "        x = self.dropout(self.relu(self.fc1(x)))\n",
        "        x = self.fc2(x)\n",
        "        return x\n",
        "\n",
        "# Create model instance\n",
        "model = TreeCNN()\n",
        "print(model)\n"
      ],
      "metadata": {
        "colab": {
          "base_uri": "https://localhost:8080/"
        },
        "id": "UYMp9HBpcwbF",
        "outputId": "b5ac9ca2-672a-4fe8-c530-3fef876064e0"
      },
      "execution_count": 55,
      "outputs": [
        {
          "output_type": "stream",
          "name": "stdout",
          "text": [
            "TreeCNN(\n",
            "  (conv1): Conv2d(3, 32, kernel_size=(3, 3), stride=(1, 1), padding=(1, 1))\n",
            "  (bn1): BatchNorm2d(32, eps=1e-05, momentum=0.1, affine=True, track_running_stats=True)\n",
            "  (conv2): Conv2d(32, 64, kernel_size=(3, 3), stride=(1, 1), padding=(1, 1))\n",
            "  (bn2): BatchNorm2d(64, eps=1e-05, momentum=0.1, affine=True, track_running_stats=True)\n",
            "  (conv3): Conv2d(64, 128, kernel_size=(3, 3), stride=(1, 1), padding=(1, 1))\n",
            "  (bn3): BatchNorm2d(128, eps=1e-05, momentum=0.1, affine=True, track_running_stats=True)\n",
            "  (conv4): Conv2d(128, 256, kernel_size=(3, 3), stride=(1, 1), padding=(1, 1))\n",
            "  (bn4): BatchNorm2d(256, eps=1e-05, momentum=0.1, affine=True, track_running_stats=True)\n",
            "  (pool): MaxPool2d(kernel_size=2, stride=2, padding=0, dilation=1, ceil_mode=False)\n",
            "  (dropout): Dropout(p=0.5, inplace=False)\n",
            "  (global_avg_pool): AdaptiveAvgPool2d(output_size=(1, 1))\n",
            "  (fc1): Linear(in_features=50176, out_features=512, bias=True)\n",
            "  (fc2): Linear(in_features=512, out_features=2, bias=True)\n",
            "  (relu): ReLU()\n",
            ")\n"
          ]
        }
      ]
    },
    {
      "cell_type": "code",
      "source": [
        "device = torch.device(\"cuda\" if torch.cuda.is_available() else \"cpu\")\n",
        "model.to(device)\n",
        "\n",
        "criterion = nn.CrossEntropyLoss()\n",
        "optimizer = optim.Adam(model.parameters(), lr=0.001)\n",
        "\n",
        "print(\"Tree CNN Model Architecture Loaded!\")\n"
      ],
      "metadata": {
        "id": "t-CdBzxbmI9k",
        "colab": {
          "base_uri": "https://localhost:8080/"
        },
        "outputId": "6ac0d93f-da87-44c2-fe67-bc49caa36c9f"
      },
      "execution_count": 56,
      "outputs": [
        {
          "output_type": "stream",
          "name": "stdout",
          "text": [
            "Tree CNN Model Architecture Loaded!\n"
          ]
        }
      ]
    },
    {
      "cell_type": "code",
      "source": [
        "num_epochs = 20\n",
        "\n",
        "train_losses = []\n",
        "val_losses = []\n",
        "best_val_loss = float(\"inf\")\n",
        "\n",
        "for epoch in range(num_epochs):\n",
        "    model.train()  # Set model to training mode\n",
        "    train_loss = 0.0\n",
        "\n",
        "    for images, labels in train_loader:\n",
        "        images, labels = images.to(device), labels.to(device)\n",
        "\n",
        "        # Forward pass\n",
        "        outputs = model(images)\n",
        "        loss = criterion(outputs, labels)\n",
        "\n",
        "        # Backpropagation\n",
        "        optimizer.zero_grad()\n",
        "        loss.backward()\n",
        "        optimizer.step()\n",
        "\n",
        "        train_loss += loss.item()\n",
        "\n",
        "    # Validation Phase\n",
        "    model.eval()\n",
        "    val_loss = 0.0\n",
        "    correct = 0\n",
        "    total = 0\n",
        "\n",
        "    with torch.no_grad():\n",
        "        for images, labels in val_loader:\n",
        "            images, labels = images.to(device), labels.to(device)\n",
        "            outputs = model(images)\n",
        "            loss = criterion(outputs, labels)\n",
        "            val_loss += loss.item()\n",
        "\n",
        "            # Accuracy calculation\n",
        "            _, predicted = torch.max(outputs, 1)\n",
        "            total += labels.size(0)\n",
        "            correct += (predicted == labels).sum().item()\n",
        "\n",
        "    train_loss /= len(train_loader)\n",
        "    val_loss /= len(val_loader)\n",
        "    accuracy = 100 * correct / total\n",
        "\n",
        "    train_losses.append(train_loss)\n",
        "    val_losses.append(val_loss)\n",
        "\n",
        "    print(f\"Epoch [{epoch+1}/{num_epochs}], Train Loss: {train_loss:.4f}, Val Loss: {val_loss:.4f}, Val Accuracy: {accuracy:.2f}%\")\n",
        "\n",
        "    # Save best model based on validation loss\n",
        "\n",
        "    if val_loss < best_val_loss:\n",
        "        best_val_loss = val_loss\n",
        "        torch.save(model.state_dict(), \"best_custom_cnn.pth\")\n",
        "        print(f\"Best model saved at epoch {epoch+1} with Val Loss: {val_loss:.4f}, Val Accuracy: {accuracy:.2f}%\")\n"
      ],
      "metadata": {
        "colab": {
          "base_uri": "https://localhost:8080/"
        },
        "id": "X6NByoiBdBad",
        "outputId": "dd8ab692-6f37-49d2-b34c-d2cf85fb25fa"
      },
      "execution_count": 57,
      "outputs": [
        {
          "output_type": "stream",
          "name": "stdout",
          "text": [
            "Epoch [1/20], Train Loss: 1.1383, Val Loss: 0.4671, Val Accuracy: 79.18%\n",
            "Best model saved at epoch 1 with Val Loss: 0.4671, Val Accuracy: 79.18%\n",
            "Epoch [2/20], Train Loss: 0.3510, Val Loss: 0.3150, Val Accuracy: 88.65%\n",
            "Best model saved at epoch 2 with Val Loss: 0.3150, Val Accuracy: 88.65%\n",
            "Epoch [3/20], Train Loss: 0.3161, Val Loss: 0.8285, Val Accuracy: 71.78%\n",
            "Epoch [4/20], Train Loss: 0.2807, Val Loss: 0.4348, Val Accuracy: 84.52%\n",
            "Epoch [5/20], Train Loss: 0.2415, Val Loss: 0.2899, Val Accuracy: 88.12%\n",
            "Best model saved at epoch 5 with Val Loss: 0.2899, Val Accuracy: 88.12%\n",
            "Epoch [6/20], Train Loss: 0.2476, Val Loss: 0.1963, Val Accuracy: 93.61%\n",
            "Best model saved at epoch 6 with Val Loss: 0.1963, Val Accuracy: 93.61%\n",
            "Epoch [7/20], Train Loss: 0.2084, Val Loss: 0.1365, Val Accuracy: 95.58%\n",
            "Best model saved at epoch 7 with Val Loss: 0.1365, Val Accuracy: 95.58%\n",
            "Epoch [8/20], Train Loss: 0.2174, Val Loss: 0.1444, Val Accuracy: 95.05%\n",
            "Epoch [9/20], Train Loss: 0.1833, Val Loss: 0.1852, Val Accuracy: 91.15%\n",
            "Epoch [10/20], Train Loss: 0.1635, Val Loss: 0.3281, Val Accuracy: 91.73%\n",
            "Epoch [11/20], Train Loss: 0.1610, Val Loss: 0.1159, Val Accuracy: 96.06%\n",
            "Best model saved at epoch 11 with Val Loss: 0.1159, Val Accuracy: 96.06%\n",
            "Epoch [12/20], Train Loss: 0.1351, Val Loss: 0.1190, Val Accuracy: 95.24%\n",
            "Epoch [13/20], Train Loss: 0.1265, Val Loss: 0.1012, Val Accuracy: 95.96%\n",
            "Best model saved at epoch 13 with Val Loss: 0.1012, Val Accuracy: 95.96%\n",
            "Epoch [14/20], Train Loss: 0.1226, Val Loss: 1.2418, Val Accuracy: 74.04%\n",
            "Epoch [15/20], Train Loss: 0.1217, Val Loss: 0.0992, Val Accuracy: 96.54%\n",
            "Best model saved at epoch 15 with Val Loss: 0.0992, Val Accuracy: 96.54%\n",
            "Epoch [16/20], Train Loss: 0.1123, Val Loss: 0.1101, Val Accuracy: 96.30%\n",
            "Epoch [17/20], Train Loss: 0.1076, Val Loss: 0.5658, Val Accuracy: 87.16%\n",
            "Epoch [18/20], Train Loss: 0.1028, Val Loss: 0.0867, Val Accuracy: 96.97%\n",
            "Best model saved at epoch 18 with Val Loss: 0.0867, Val Accuracy: 96.97%\n",
            "Epoch [19/20], Train Loss: 0.1060, Val Loss: 0.1013, Val Accuracy: 96.11%\n",
            "Epoch [20/20], Train Loss: 0.0981, Val Loss: 0.1406, Val Accuracy: 95.67%\n"
          ]
        }
      ]
    },
    {
      "cell_type": "code",
      "source": [
        "# Load the best model weights\n",
        "model.load_state_dict(torch.load(\"best_custom_cnn.pth\", map_location=device))\n",
        "model.eval()\n",
        "print(\"Best Tree CNN Model Loaded for Evaluation!\")\n"
      ],
      "metadata": {
        "colab": {
          "base_uri": "https://localhost:8080/"
        },
        "id": "JqQb4VPafx9r",
        "outputId": "4def1091-b674-40af-e7dd-089b71c8dbd8"
      },
      "execution_count": 58,
      "outputs": [
        {
          "output_type": "stream",
          "name": "stdout",
          "text": [
            "Best Tree CNN Model Loaded for Evaluation!\n"
          ]
        }
      ]
    },
    {
      "cell_type": "code",
      "source": [
        "plt.plot(train_losses, label=\"Train Loss\")\n",
        "plt.plot(val_losses, label=\"Validation Loss\")\n",
        "plt.xlabel(\"Epochs\")\n",
        "plt.ylabel(\"Loss\")\n",
        "plt.legend()\n",
        "plt.title(\"Training vs Validation Loss\")\n",
        "plt.show()\n"
      ],
      "metadata": {
        "colab": {
          "base_uri": "https://localhost:8080/",
          "height": 472
        },
        "id": "oRD6c8hd6tqM",
        "outputId": "fbb6b486-903b-4930-996d-811dabdfd541"
      },
      "execution_count": 59,
      "outputs": [
        {
          "output_type": "display_data",
          "data": {
            "text/plain": [
              "<Figure size 640x480 with 1 Axes>"
            ],
            "image/png": "[encoded data removed]"
          },
          "metadata": {}
        }
      ]
    },
    {
      "cell_type": "code",
      "source": [
        "\n",
        "model.eval()\n",
        "\n",
        "# Get a random test image\n",
        "image_path = random.choice(dataset.samples)[0]\n",
        "\n",
        "# Load image\n",
        "image = Image.open(image_path)\n",
        "transform_test = transforms.Compose([\n",
        "    transforms.Resize((224, 224)),\n",
        "    transforms.ToTensor(),\n",
        "    transforms.Normalize(mean=[0.5], std=[0.5])\n",
        "])\n",
        "image_tensor = transform_test(image).unsqueeze(0).to(device)\n",
        "\n",
        "# Make prediction\n",
        "with torch.no_grad():\n",
        "    output = model(image_tensor)\n",
        "    _, predicted_class = torch.max(output, 1)\n",
        "\n",
        "# Show image and prediction\n",
        "plt.imshow(image)\n",
        "plt.title(f\"Predicted: {'Tree' if predicted_class.item() == 1 else 'No Tree'}\")\n",
        "plt.axis(\"off\")\n",
        "plt.show()\n"
      ],
      "metadata": {
        "colab": {
          "base_uri": "https://localhost:8080/",
          "height": 428
        },
        "id": "XHRpjGxY62WD",
        "outputId": "c2f5ea6b-84fa-4972-a698-0576bbcb2b7f"
      },
      "execution_count": 60,
      "outputs": [
        {
          "output_type": "display_data",
          "data": {
            "text/plain": [
              "<Figure size 640x480 with 1 Axes>"
            ],
            "image/png": "[encoded data removed]"
          },
          "metadata": {}
        }
      ]
    },
    {
      "cell_type": "code",
      "source": [
        "y_true = []\n",
        "y_pred = []\n",
        "\n",
        "# Run predictions on validation data\n",
        "with torch.no_grad():\n",
        "    for images, labels in val_loader:\n",
        "        images, labels = images.to(device), labels.to(device)\n",
        "        outputs = model(images)\n",
        "        _, predicted = torch.max(outputs, 1)\n",
        "\n",
        "        y_true.extend(labels.cpu().numpy())\n",
        "        y_pred.extend(predicted.cpu().numpy())\n",
        "\n",
        "# Compute Accuracy\n",
        "accuracy = np.mean(np.array(y_true) == np.array(y_pred)) * 100\n",
        "print(f\"Custom CNN Test Accuracy: {accuracy:.2f}%\")\n",
        "\n",
        "# Compute Confusion Matrix\n",
        "cm = confusion_matrix(y_true, y_pred)\n",
        "\n",
        "# Print Classification Report\n",
        "class_report = classification_report(y_true, y_pred, target_names=[\"No Tree\", \"Tree\"])\n",
        "print(\"Classification Report:\\n\", class_report)\n"
      ],
      "metadata": {
        "colab": {
          "base_uri": "https://localhost:8080/"
        },
        "id": "Sv2y3WrPhZq4",
        "outputId": "1701557b-6580-42bb-c221-235e7ed3ef27"
      },
      "execution_count": 61,
      "outputs": [
        {
          "output_type": "stream",
          "name": "stdout",
          "text": [
            "Custom CNN Test Accuracy: 96.97%\n",
            "Classification Report:\n",
            "               precision    recall  f1-score   support\n",
            "\n",
            "     No Tree       0.97      0.97      0.97      1038\n",
            "        Tree       0.97      0.97      0.97      1042\n",
            "\n",
            "    accuracy                           0.97      2080\n",
            "   macro avg       0.97      0.97      0.97      2080\n",
            "weighted avg       0.97      0.97      0.97      2080\n",
            "\n"
          ]
        }
      ]
    },
    {
      "cell_type": "code",
      "source": [
        "# Plot Confusion Matrix\n",
        "plt.figure(figsize=(6, 5))\n",
        "sns.heatmap(cm, annot=True, fmt=\"d\", cmap=\"Blues\", xticklabels=[\"No Tree\", \"Tree\"], yticklabels=[\"No Tree\", \"Tree\"])\n",
        "plt.xlabel(\"Predicted\")\n",
        "plt.ylabel(\"Actual\")\n",
        "plt.title(\"Confusion Matrix (Custom CNN)\")\n",
        "plt.show()\n"
      ],
      "metadata": {
        "colab": {
          "base_uri": "https://localhost:8080/",
          "height": 487
        },
        "id": "f1V4tbu6hz_x",
        "outputId": "401b9760-02a3-4cee-ffef-4ee97f25979a"
      },
      "execution_count": 62,
      "outputs": [
        {
          "output_type": "display_data",
          "data": {
            "text/plain": [
              "<Figure size 600x500 with 2 Axes>"
            ],
            "image/png": "[encoded data removed]"
          },
          "metadata": {}
        }
      ]
    },
    {
      "cell_type": "code",
      "source": [
        "\n",
        "def get_model_size(model, model_name=\"custom_cnn\"):\n",
        "    \"\"\"Saves model and calculates its size in MB.\"\"\"\n",
        "    torch.save(model.state_dict(), f\"{model_name}.pth\")  # Save model weights\n",
        "    size = os.path.getsize(f\"{model_name}.pth\") / (1024 * 1024)  # Convert to MB\n",
        "    os.remove(f\"{model_name}.pth\")  # Clean up\n",
        "    print(f\"{model_name} Size: {size:.2f} MB\")\n",
        "    return size\n",
        "\n",
        "# Measure Custom CNN model size\n",
        "get_model_size(model)\n"
      ],
      "metadata": {
        "id": "FsP7lQkmi0mM"
      },
      "execution_count": null,
      "outputs": []
    },
    {
      "cell_type": "code",
      "source": [
        "\n",
        "# Generate a random test image (batch size = 1, 3 color channels, 224x224 pixels)\n",
        "test_image = torch.randn(1, 3, 224, 224).to(device)\n",
        "\n",
        "def measure_inference_time(model, model_name=\"Custom CNN\"):\n",
        "    \"\"\"Measures inference time on a single image.\"\"\"\n",
        "    model.eval()\n",
        "\n",
        "    # Warm-up\n",
        "    for _ in range(5):\n",
        "        with torch.no_grad():\n",
        "            _ = model(test_image)\n",
        "\n",
        "    # Start measuring time\n",
        "    start_time = time.time()\n",
        "    with torch.no_grad():\n",
        "        _ = model(test_image)\n",
        "    end_time = time.time()\n",
        "\n",
        "    inference_time = end_time - start_time\n",
        "    print(f\"{model_name} Inference Time: {inference_time:.6f} seconds per image\")\n",
        "    return inference_time\n",
        "\n",
        "# Measure inference time\n",
        "measure_inference_time(model)\n"
      ],
      "metadata": {
        "colab": {
          "base_uri": "https://localhost:8080/"
        },
        "id": "iFAJ3EXLjd7Z",
        "outputId": "ff096e78-a36a-41dd-ea9a-a1d489b7671a"
      },
      "execution_count": 66,
      "outputs": [
        {
          "output_type": "stream",
          "name": "stdout",
          "text": [
            "Custom CNN Inference Time: 0.000886 seconds per image\n"
          ]
        },
        {
          "output_type": "execute_result",
          "data": {
            "text/plain": [
              "0.0008859634399414062"
            ]
          },
          "metadata": {},
          "execution_count": 66
        }
      ]
    },
    {
      "cell_type": "code",
      "source": [
        "import pandas as pd\n",
        "\n",
        "# Define the model layers with type, output shape, and parameters count\n",
        "model_layers_summary = [\n",
        "    (\"Conv2d\", \"32 x H x W\", \"3x3x3x32 + 32\"),\n",
        "    (\"BatchNorm2d\", \"32 x H x W\", \"32\"),\n",
        "    (\"Conv2d\", \"64 x H x W\", \"3x3x32x64 + 64\"),\n",
        "    (\"BatchNorm2d\", \"64 x H x W\", \"64\"),\n",
        "    (\"Conv2d\", \"128 x H x W\", \"3x3x64x128 + 128\"),\n",
        "    (\"BatchNorm2d\", \"128 x H x W\", \"128\"),\n",
        "    (\"Conv2d\", \"256 x H x W\", \"3x3x128x256 + 256\"),\n",
        "    (\"BatchNorm2d\", \"256 x H x W\", \"256\"),\n",
        "    (\"MaxPool2d\", \"256 x H/2 x W/2\", \"0\"),\n",
        "    (\"Dropout\", \"256 x H/2 x W/2\", \"0\"),\n",
        "    (\"AdaptiveAvgPool2d\", \"256 x 1 x 1\", \"0\"),\n",
        "    (\"Linear\", \"512\", \"256x1x1x512 + 512\"),\n",
        "    (\"Linear\", \"2\", \"512x2 + 2\"),\n",
        "    (\"ReLU\", \"-\", \"0\"),\n",
        "]\n",
        "\n",
        "# Create DataFrame\n",
        "df_summary = pd.DataFrame(model_layers_summary, columns=[\"Layer (Type)\", \"Output Shape\", \"Params\"])\n",
        "\n",
        "# Display the table\n",
        "print(df_summary)\n",
        "\n",
        "\n"
      ],
      "metadata": {
        "colab": {
          "base_uri": "https://localhost:8080/"
        },
        "id": "e-ev57zb5MG4",
        "outputId": "ec8fc9f4-2f7b-4654-c476-3ae872170e3f"
      },
      "execution_count": 69,
      "outputs": [
        {
          "output_type": "stream",
          "name": "stdout",
          "text": [
            "         Layer (Type)     Output Shape             Params\n",
            "0              Conv2d       32 x H x W      3x3x3x32 + 32\n",
            "1         BatchNorm2d       32 x H x W                 32\n",
            "2              Conv2d       64 x H x W     3x3x32x64 + 64\n",
            "3         BatchNorm2d       64 x H x W                 64\n",
            "4              Conv2d      128 x H x W   3x3x64x128 + 128\n",
            "5         BatchNorm2d      128 x H x W                128\n",
            "6              Conv2d      256 x H x W  3x3x128x256 + 256\n",
            "7         BatchNorm2d      256 x H x W                256\n",
            "8           MaxPool2d  256 x H/2 x W/2                  0\n",
            "9             Dropout  256 x H/2 x W/2                  0\n",
            "10  AdaptiveAvgPool2d      256 x 1 x 1                  0\n",
            "11             Linear              512  256x1x1x512 + 512\n",
            "12             Linear                2          512x2 + 2\n",
            "13               ReLU                -                  0\n"
          ]
        }
      ]
    },
    {
      "cell_type": "code",
      "source": [
        "!pip install torchview  # Install first if not installed\n",
        "\n",
        "from torchview import draw_graph\n",
        "\n",
        "# Generate the visualization\n",
        "model_graph = draw_graph(model, input_size=(1, 3, 224, 224), device=\"cuda\")\n",
        "\n",
        "# Display\n",
        "model_graph.visual_graph\n"
      ],
      "metadata": {
        "colab": {
          "base_uri": "https://localhost:8080/",
          "height": 1000
        },
        "id": "fBbKWs4OTGeQ",
        "outputId": "64eaeba9-6d00-468d-9097-519b68b13d3d"
      },
      "execution_count": 70,
      "outputs": [
        {
          "output_type": "stream",
          "name": "stdout",
          "text": [
            "Requirement already satisfied: torchview in /usr/local/lib/python3.11/dist-packages (0.2.6)\n"
          ]
        },
        {
          "output_type": "execute_result",
          "data": {
            "image/svg+xml": "<?xml version=\"1.0\" encoding=\"UTF-8\" standalone=\"no\"?>\n<!DOCTYPE svg PUBLIC \"-//W3C//DTD SVG 1.1//EN\"\n \"http://www.w3.org/Graphics/SVG/1.1/DTD/svg11.dtd\">\n<!-- Generated by graphviz version 2.43.0 (0)\n -->\n<!-- Title: model Pages: 1 -->\n<svg width=\"146pt\" height=\"1015pt\"\n viewBox=\"0.00 0.00 146.35 1015.00\" xmlns=\"http://www.w3.org/2000/svg\" xmlns:xlink=\"http://www.w3.org/1999/xlink\">\n<g id=\"graph0\" class=\"graph\" transform=\"scale(0.56 0.56) rotate(0) translate(4 1820)\">\n<title>model</title>\n<polygon fill=\"white\" stroke=\"transparent\" points=\"-4,4 -4,-1820 259,-1820 259,4 -4,4\"/>\n<!-- 0 -->\n<g id=\"node1\" class=\"node\">\n<title>0</title>\n<polygon fill=\"lightyellow\" stroke=\"transparent\" points=\"222.5,-1816 32.5,-1816 32.5,-1784 222.5,-1784 222.5,-1816\"/>\n<polygon fill=\"none\" stroke=\"black\" points=\"32.5,-1784 32.5,-1816 115.5,-1816 115.5,-1784 32.5,-1784\"/>\n<text text-anchor=\"start\" x=\"37.5\" y=\"-1803\" font-family=\"Linux libertine\" font-size=\"10.00\">input&#45;tensor</text>\n<text text-anchor=\"start\" x=\"52.5\" y=\"-1792\" font-family=\"Linux libertine\" font-size=\"10.00\">depth:0</text>\n<polygon fill=\"none\" stroke=\"black\" points=\"115.5,-1784 115.5,-1816 222.5,-1816 222.5,-1784 115.5,-1784\"/>\n<text text-anchor=\"start\" x=\"120.5\" y=\"-1797.5\" font-family=\"Linux libertine\" font-size=\"10.00\">(1, 3, 224, 224)</text>\n</g>\n<!-- 1 -->\n<g id=\"node2\" class=\"node\">\n<title>1</title>\n<polygon fill=\"#c1ffc1\" stroke=\"transparent\" points=\"243,-1748 12,-1748 12,-1706 243,-1706 243,-1748\"/>\n<polygon fill=\"none\" stroke=\"black\" points=\"12.5,-1706 12.5,-1748 65.5,-1748 65.5,-1706 12.5,-1706\"/>\n<text text-anchor=\"start\" x=\"20.5\" y=\"-1730\" font-family=\"Linux libertine\" font-size=\"10.00\">Conv2d</text>\n<text text-anchor=\"start\" x=\"17.5\" y=\"-1719\" font-family=\"Linux libertine\" font-size=\"10.00\">depth:1</text>\n<polygon fill=\"none\" stroke=\"black\" points=\"65.5,-1727 65.5,-1748 124.5,-1748 124.5,-1727 65.5,-1727\"/>\n<text text-anchor=\"start\" x=\"76.5\" y=\"-1735\" font-family=\"Linux libertine\" font-size=\"10.00\">input:</text>\n<polygon fill=\"none\" stroke=\"black\" points=\"124.5,-1727 124.5,-1748 243.5,-1748 243.5,-1727 124.5,-1727\"/>\n<text text-anchor=\"start\" x=\"132.5\" y=\"-1735\" font-family=\"Linux libertine\" font-size=\"10.00\">(1, 3, 224, 224) </text>\n<polygon fill=\"none\" stroke=\"black\" points=\"65.5,-1706 65.5,-1727 124.5,-1727 124.5,-1706 65.5,-1706\"/>\n<text text-anchor=\"start\" x=\"70.5\" y=\"-1714\" font-family=\"Linux libertine\" font-size=\"10.00\">output: </text>\n<polygon fill=\"none\" stroke=\"black\" points=\"124.5,-1706 124.5,-1727 243.5,-1727 243.5,-1706 124.5,-1706\"/>\n<text text-anchor=\"start\" x=\"129.5\" y=\"-1714\" font-family=\"Linux libertine\" font-size=\"10.00\">(1, 32, 224, 224) </text>\n</g>\n<!-- 0&#45;&gt;1 -->\n<g id=\"edge1\" class=\"edge\">\n<title>0&#45;&gt;1</title>\n<path fill=\"none\" stroke=\"black\" d=\"M127.5,-1783.94C127.5,-1776.45 127.5,-1767.12 127.5,-1758.24\"/>\n<polygon fill=\"black\" stroke=\"black\" points=\"131,-1758.16 127.5,-1748.16 124,-1758.16 131,-1758.16\"/>\n</g>\n<!-- 2 -->\n<g id=\"node3\" class=\"node\">\n<title>2</title>\n<polygon fill=\"#c1ffc1\" stroke=\"transparent\" points=\"255,-1670 0,-1670 0,-1628 255,-1628 255,-1670\"/>\n<polygon fill=\"none\" stroke=\"black\" points=\"0.5,-1628 0.5,-1670 77.5,-1670 77.5,-1628 0.5,-1628\"/>\n<text text-anchor=\"start\" x=\"5.5\" y=\"-1652\" font-family=\"Linux libertine\" font-size=\"10.00\">BatchNorm2d</text>\n<text text-anchor=\"start\" x=\"17.5\" y=\"-1641\" font-family=\"Linux libertine\" font-size=\"10.00\">depth:1</text>\n<polygon fill=\"none\" stroke=\"black\" points=\"77.5,-1649 77.5,-1670 136.5,-1670 136.5,-1649 77.5,-1649\"/>\n<text text-anchor=\"start\" x=\"88.5\" y=\"-1657\" font-family=\"Linux libertine\" font-size=\"10.00\">input:</text>\n<polygon fill=\"none\" stroke=\"black\" points=\"136.5,-1649 136.5,-1670 255.5,-1670 255.5,-1649 136.5,-1649\"/>\n<text text-anchor=\"start\" x=\"141.5\" y=\"-1657\" font-family=\"Linux libertine\" font-size=\"10.00\">(1, 32, 224, 224) </text>\n<polygon fill=\"none\" stroke=\"black\" points=\"77.5,-1628 77.5,-1649 136.5,-1649 136.5,-1628 77.5,-1628\"/>\n<text text-anchor=\"start\" x=\"82.5\" y=\"-1636\" font-family=\"Linux libertine\" font-size=\"10.00\">output: </text>\n<polygon fill=\"none\" stroke=\"black\" points=\"136.5,-1628 136.5,-1649 255.5,-1649 255.5,-1628 136.5,-1628\"/>\n<text text-anchor=\"start\" x=\"141.5\" y=\"-1636\" font-family=\"Linux libertine\" font-size=\"10.00\">(1, 32, 224, 224) </text>\n</g>\n<!-- 1&#45;&gt;2 -->\n<g id=\"edge2\" class=\"edge\">\n<title>1&#45;&gt;2</title>\n<path fill=\"none\" stroke=\"black\" d=\"M127.5,-1705.63C127.5,-1697.82 127.5,-1688.73 127.5,-1680.18\"/>\n<polygon fill=\"black\" stroke=\"black\" points=\"131,-1680.16 127.5,-1670.16 124,-1680.16 131,-1680.16\"/>\n</g>\n<!-- 3 -->\n<g id=\"node4\" class=\"node\">\n<title>3</title>\n<polygon fill=\"#c1ffc1\" stroke=\"transparent\" points=\"243,-1592 12,-1592 12,-1550 243,-1550 243,-1592\"/>\n<polygon fill=\"none\" stroke=\"black\" points=\"12.5,-1550 12.5,-1592 65.5,-1592 65.5,-1550 12.5,-1550\"/>\n<text text-anchor=\"start\" x=\"26.5\" y=\"-1574\" font-family=\"Linux libertine\" font-size=\"10.00\">ReLU</text>\n<text text-anchor=\"start\" x=\"17.5\" y=\"-1563\" font-family=\"Linux libertine\" font-size=\"10.00\">depth:1</text>\n<polygon fill=\"none\" stroke=\"black\" points=\"65.5,-1571 65.5,-1592 124.5,-1592 124.5,-1571 65.5,-1571\"/>\n<text text-anchor=\"start\" x=\"76.5\" y=\"-1579\" font-family=\"Linux libertine\" font-size=\"10.00\">input:</text>\n<polygon fill=\"none\" stroke=\"black\" points=\"124.5,-1571 124.5,-1592 243.5,-1592 243.5,-1571 124.5,-1571\"/>\n<text text-anchor=\"start\" x=\"129.5\" y=\"-1579\" font-family=\"Linux libertine\" font-size=\"10.00\">(1, 32, 224, 224) </text>\n<polygon fill=\"none\" stroke=\"black\" points=\"65.5,-1550 65.5,-1571 124.5,-1571 124.5,-1550 65.5,-1550\"/>\n<text text-anchor=\"start\" x=\"70.5\" y=\"-1558\" font-family=\"Linux libertine\" font-size=\"10.00\">output: </text>\n<polygon fill=\"none\" stroke=\"black\" points=\"124.5,-1550 124.5,-1571 243.5,-1571 243.5,-1550 124.5,-1550\"/>\n<text text-anchor=\"start\" x=\"129.5\" y=\"-1558\" font-family=\"Linux libertine\" font-size=\"10.00\">(1, 32, 224, 224) </text>\n</g>\n<!-- 2&#45;&gt;3 -->\n<g id=\"edge3\" class=\"edge\">\n<title>2&#45;&gt;3</title>\n<path fill=\"none\" stroke=\"black\" d=\"M127.5,-1627.63C127.5,-1619.82 127.5,-1610.73 127.5,-1602.18\"/>\n<polygon fill=\"black\" stroke=\"black\" points=\"131,-1602.16 127.5,-1592.16 124,-1602.16 131,-1602.16\"/>\n</g>\n<!-- 4 -->\n<g id=\"node5\" class=\"node\">\n<title>4</title>\n<polygon fill=\"#c1ffc1\" stroke=\"transparent\" points=\"249,-1514 6,-1514 6,-1472 249,-1472 249,-1514\"/>\n<polygon fill=\"none\" stroke=\"black\" points=\"6.5,-1472 6.5,-1514 71.5,-1514 71.5,-1472 6.5,-1472\"/>\n<text text-anchor=\"start\" x=\"11.5\" y=\"-1496\" font-family=\"Linux libertine\" font-size=\"10.00\">MaxPool2d</text>\n<text text-anchor=\"start\" x=\"17.5\" y=\"-1485\" font-family=\"Linux libertine\" font-size=\"10.00\">depth:1</text>\n<polygon fill=\"none\" stroke=\"black\" points=\"71.5,-1493 71.5,-1514 130.5,-1514 130.5,-1493 71.5,-1493\"/>\n<text text-anchor=\"start\" x=\"82.5\" y=\"-1501\" font-family=\"Linux libertine\" font-size=\"10.00\">input:</text>\n<polygon fill=\"none\" stroke=\"black\" points=\"130.5,-1493 130.5,-1514 249.5,-1514 249.5,-1493 130.5,-1493\"/>\n<text text-anchor=\"start\" x=\"135.5\" y=\"-1501\" font-family=\"Linux libertine\" font-size=\"10.00\">(1, 32, 224, 224) </text>\n<polygon fill=\"none\" stroke=\"black\" points=\"71.5,-1472 71.5,-1493 130.5,-1493 130.5,-1472 71.5,-1472\"/>\n<text text-anchor=\"start\" x=\"76.5\" y=\"-1480\" font-family=\"Linux libertine\" font-size=\"10.00\">output: </text>\n<polygon fill=\"none\" stroke=\"black\" points=\"130.5,-1472 130.5,-1493 249.5,-1493 249.5,-1472 130.5,-1472\"/>\n<text text-anchor=\"start\" x=\"135.5\" y=\"-1480\" font-family=\"Linux libertine\" font-size=\"10.00\">(1, 32, 112, 112) </text>\n</g>\n<!-- 3&#45;&gt;4 -->\n<g id=\"edge4\" class=\"edge\">\n<title>3&#45;&gt;4</title>\n<path fill=\"none\" stroke=\"black\" d=\"M127.5,-1549.63C127.5,-1541.82 127.5,-1532.73 127.5,-1524.18\"/>\n<polygon fill=\"black\" stroke=\"black\" points=\"131,-1524.16 127.5,-1514.16 124,-1524.16 131,-1524.16\"/>\n</g>\n<!-- 5 -->\n<g id=\"node6\" class=\"node\">\n<title>5</title>\n<polygon fill=\"#c1ffc1\" stroke=\"transparent\" points=\"243,-1436 12,-1436 12,-1394 243,-1394 243,-1436\"/>\n<polygon fill=\"none\" stroke=\"black\" points=\"12.5,-1394 12.5,-1436 65.5,-1436 65.5,-1394 12.5,-1394\"/>\n<text text-anchor=\"start\" x=\"20.5\" y=\"-1418\" font-family=\"Linux libertine\" font-size=\"10.00\">Conv2d</text>\n<text text-anchor=\"start\" x=\"17.5\" y=\"-1407\" font-family=\"Linux libertine\" font-size=\"10.00\">depth:1</text>\n<polygon fill=\"none\" stroke=\"black\" points=\"65.5,-1415 65.5,-1436 124.5,-1436 124.5,-1415 65.5,-1415\"/>\n<text text-anchor=\"start\" x=\"76.5\" y=\"-1423\" font-family=\"Linux libertine\" font-size=\"10.00\">input:</text>\n<polygon fill=\"none\" stroke=\"black\" points=\"124.5,-1415 124.5,-1436 243.5,-1436 243.5,-1415 124.5,-1415\"/>\n<text text-anchor=\"start\" x=\"129.5\" y=\"-1423\" font-family=\"Linux libertine\" font-size=\"10.00\">(1, 32, 112, 112) </text>\n<polygon fill=\"none\" stroke=\"black\" points=\"65.5,-1394 65.5,-1415 124.5,-1415 124.5,-1394 65.5,-1394\"/>\n<text text-anchor=\"start\" x=\"70.5\" y=\"-1402\" font-family=\"Linux libertine\" font-size=\"10.00\">output: </text>\n<polygon fill=\"none\" stroke=\"black\" points=\"124.5,-1394 124.5,-1415 243.5,-1415 243.5,-1394 124.5,-1394\"/>\n<text text-anchor=\"start\" x=\"129.5\" y=\"-1402\" font-family=\"Linux libertine\" font-size=\"10.00\">(1, 64, 112, 112) </text>\n</g>\n<!-- 4&#45;&gt;5 -->\n<g id=\"edge5\" class=\"edge\">\n<title>4&#45;&gt;5</title>\n<path fill=\"none\" stroke=\"black\" d=\"M127.5,-1471.63C127.5,-1463.82 127.5,-1454.73 127.5,-1446.18\"/>\n<polygon fill=\"black\" stroke=\"black\" points=\"131,-1446.16 127.5,-1436.16 124,-1446.16 131,-1446.16\"/>\n</g>\n<!-- 6 -->\n<g id=\"node7\" class=\"node\">\n<title>6</title>\n<polygon fill=\"#c1ffc1\" stroke=\"transparent\" points=\"255,-1358 0,-1358 0,-1316 255,-1316 255,-1358\"/>\n<polygon fill=\"none\" stroke=\"black\" points=\"0.5,-1316 0.5,-1358 77.5,-1358 77.5,-1316 0.5,-1316\"/>\n<text text-anchor=\"start\" x=\"5.5\" y=\"-1340\" font-family=\"Linux libertine\" font-size=\"10.00\">BatchNorm2d</text>\n<text text-anchor=\"start\" x=\"17.5\" y=\"-1329\" font-family=\"Linux libertine\" font-size=\"10.00\">depth:1</text>\n<polygon fill=\"none\" stroke=\"black\" points=\"77.5,-1337 77.5,-1358 136.5,-1358 136.5,-1337 77.5,-1337\"/>\n<text text-anchor=\"start\" x=\"88.5\" y=\"-1345\" font-family=\"Linux libertine\" font-size=\"10.00\">input:</text>\n<polygon fill=\"none\" stroke=\"black\" points=\"136.5,-1337 136.5,-1358 255.5,-1358 255.5,-1337 136.5,-1337\"/>\n<text text-anchor=\"start\" x=\"141.5\" y=\"-1345\" font-family=\"Linux libertine\" font-size=\"10.00\">(1, 64, 112, 112) </text>\n<polygon fill=\"none\" stroke=\"black\" points=\"77.5,-1316 77.5,-1337 136.5,-1337 136.5,-1316 77.5,-1316\"/>\n<text text-anchor=\"start\" x=\"82.5\" y=\"-1324\" font-family=\"Linux libertine\" font-size=\"10.00\">output: </text>\n<polygon fill=\"none\" stroke=\"black\" points=\"136.5,-1316 136.5,-1337 255.5,-1337 255.5,-1316 136.5,-1316\"/>\n<text text-anchor=\"start\" x=\"141.5\" y=\"-1324\" font-family=\"Linux libertine\" font-size=\"10.00\">(1, 64, 112, 112) </text>\n</g>\n<!-- 5&#45;&gt;6 -->\n<g id=\"edge6\" class=\"edge\">\n<title>5&#45;&gt;6</title>\n<path fill=\"none\" stroke=\"black\" d=\"M127.5,-1393.63C127.5,-1385.82 127.5,-1376.73 127.5,-1368.18\"/>\n<polygon fill=\"black\" stroke=\"black\" points=\"131,-1368.16 127.5,-1358.16 124,-1368.16 131,-1368.16\"/>\n</g>\n<!-- 7 -->\n<g id=\"node8\" class=\"node\">\n<title>7</title>\n<polygon fill=\"#c1ffc1\" stroke=\"transparent\" points=\"243,-1280 12,-1280 12,-1238 243,-1238 243,-1280\"/>\n<polygon fill=\"none\" stroke=\"black\" points=\"12.5,-1238 12.5,-1280 65.5,-1280 65.5,-1238 12.5,-1238\"/>\n<text text-anchor=\"start\" x=\"26.5\" y=\"-1262\" font-family=\"Linux libertine\" font-size=\"10.00\">ReLU</text>\n<text text-anchor=\"start\" x=\"17.5\" y=\"-1251\" font-family=\"Linux libertine\" font-size=\"10.00\">depth:1</text>\n<polygon fill=\"none\" stroke=\"black\" points=\"65.5,-1259 65.5,-1280 124.5,-1280 124.5,-1259 65.5,-1259\"/>\n<text text-anchor=\"start\" x=\"76.5\" y=\"-1267\" font-family=\"Linux libertine\" font-size=\"10.00\">input:</text>\n<polygon fill=\"none\" stroke=\"black\" points=\"124.5,-1259 124.5,-1280 243.5,-1280 243.5,-1259 124.5,-1259\"/>\n<text text-anchor=\"start\" x=\"129.5\" y=\"-1267\" font-family=\"Linux libertine\" font-size=\"10.00\">(1, 64, 112, 112) </text>\n<polygon fill=\"none\" stroke=\"black\" points=\"65.5,-1238 65.5,-1259 124.5,-1259 124.5,-1238 65.5,-1238\"/>\n<text text-anchor=\"start\" x=\"70.5\" y=\"-1246\" font-family=\"Linux libertine\" font-size=\"10.00\">output: </text>\n<polygon fill=\"none\" stroke=\"black\" points=\"124.5,-1238 124.5,-1259 243.5,-1259 243.5,-1238 124.5,-1238\"/>\n<text text-anchor=\"start\" x=\"129.5\" y=\"-1246\" font-family=\"Linux libertine\" font-size=\"10.00\">(1, 64, 112, 112) </text>\n</g>\n<!-- 6&#45;&gt;7 -->\n<g id=\"edge7\" class=\"edge\">\n<title>6&#45;&gt;7</title>\n<path fill=\"none\" stroke=\"black\" d=\"M127.5,-1315.63C127.5,-1307.82 127.5,-1298.73 127.5,-1290.18\"/>\n<polygon fill=\"black\" stroke=\"black\" points=\"131,-1290.16 127.5,-1280.16 124,-1290.16 131,-1290.16\"/>\n</g>\n<!-- 8 -->\n<g id=\"node9\" class=\"node\">\n<title>8</title>\n<polygon fill=\"#c1ffc1\" stroke=\"transparent\" points=\"249,-1202 6,-1202 6,-1160 249,-1160 249,-1202\"/>\n<polygon fill=\"none\" stroke=\"black\" points=\"6.5,-1160 6.5,-1202 71.5,-1202 71.5,-1160 6.5,-1160\"/>\n<text text-anchor=\"start\" x=\"11.5\" y=\"-1184\" font-family=\"Linux libertine\" font-size=\"10.00\">MaxPool2d</text>\n<text text-anchor=\"start\" x=\"17.5\" y=\"-1173\" font-family=\"Linux libertine\" font-size=\"10.00\">depth:1</text>\n<polygon fill=\"none\" stroke=\"black\" points=\"71.5,-1181 71.5,-1202 130.5,-1202 130.5,-1181 71.5,-1181\"/>\n<text text-anchor=\"start\" x=\"82.5\" y=\"-1189\" font-family=\"Linux libertine\" font-size=\"10.00\">input:</text>\n<polygon fill=\"none\" stroke=\"black\" points=\"130.5,-1181 130.5,-1202 249.5,-1202 249.5,-1181 130.5,-1181\"/>\n<text text-anchor=\"start\" x=\"135.5\" y=\"-1189\" font-family=\"Linux libertine\" font-size=\"10.00\">(1, 64, 112, 112) </text>\n<polygon fill=\"none\" stroke=\"black\" points=\"71.5,-1160 71.5,-1181 130.5,-1181 130.5,-1160 71.5,-1160\"/>\n<text text-anchor=\"start\" x=\"76.5\" y=\"-1168\" font-family=\"Linux libertine\" font-size=\"10.00\">output: </text>\n<polygon fill=\"none\" stroke=\"black\" points=\"130.5,-1160 130.5,-1181 249.5,-1181 249.5,-1160 130.5,-1160\"/>\n<text text-anchor=\"start\" x=\"141.5\" y=\"-1168\" font-family=\"Linux libertine\" font-size=\"10.00\">(1, 64, 56, 56) </text>\n</g>\n<!-- 7&#45;&gt;8 -->\n<g id=\"edge8\" class=\"edge\">\n<title>7&#45;&gt;8</title>\n<path fill=\"none\" stroke=\"black\" d=\"M127.5,-1237.63C127.5,-1229.82 127.5,-1220.73 127.5,-1212.18\"/>\n<polygon fill=\"black\" stroke=\"black\" points=\"131,-1212.16 127.5,-1202.16 124,-1212.16 131,-1212.16\"/>\n</g>\n<!-- 9 -->\n<g id=\"node10\" class=\"node\">\n<title>9</title>\n<polygon fill=\"#c1ffc1\" stroke=\"transparent\" points=\"240,-1124 15,-1124 15,-1082 240,-1082 240,-1124\"/>\n<polygon fill=\"none\" stroke=\"black\" points=\"15.5,-1082 15.5,-1124 68.5,-1124 68.5,-1082 15.5,-1082\"/>\n<text text-anchor=\"start\" x=\"23.5\" y=\"-1106\" font-family=\"Linux libertine\" font-size=\"10.00\">Conv2d</text>\n<text text-anchor=\"start\" x=\"20.5\" y=\"-1095\" font-family=\"Linux libertine\" font-size=\"10.00\">depth:1</text>\n<polygon fill=\"none\" stroke=\"black\" points=\"68.5,-1103 68.5,-1124 127.5,-1124 127.5,-1103 68.5,-1103\"/>\n<text text-anchor=\"start\" x=\"79.5\" y=\"-1111\" font-family=\"Linux libertine\" font-size=\"10.00\">input:</text>\n<polygon fill=\"none\" stroke=\"black\" points=\"127.5,-1103 127.5,-1124 240.5,-1124 240.5,-1103 127.5,-1103\"/>\n<text text-anchor=\"start\" x=\"135.5\" y=\"-1111\" font-family=\"Linux libertine\" font-size=\"10.00\">(1, 64, 56, 56) </text>\n<polygon fill=\"none\" stroke=\"black\" points=\"68.5,-1082 68.5,-1103 127.5,-1103 127.5,-1082 68.5,-1082\"/>\n<text text-anchor=\"start\" x=\"73.5\" y=\"-1090\" font-family=\"Linux libertine\" font-size=\"10.00\">output: </text>\n<polygon fill=\"none\" stroke=\"black\" points=\"127.5,-1082 127.5,-1103 240.5,-1103 240.5,-1082 127.5,-1082\"/>\n<text text-anchor=\"start\" x=\"132.5\" y=\"-1090\" font-family=\"Linux libertine\" font-size=\"10.00\">(1, 128, 56, 56) </text>\n</g>\n<!-- 8&#45;&gt;9 -->\n<g id=\"edge9\" class=\"edge\">\n<title>8&#45;&gt;9</title>\n<path fill=\"none\" stroke=\"black\" d=\"M127.5,-1159.63C127.5,-1151.82 127.5,-1142.73 127.5,-1134.18\"/>\n<polygon fill=\"black\" stroke=\"black\" points=\"131,-1134.16 127.5,-1124.16 124,-1134.16 131,-1134.16\"/>\n</g>\n<!-- 10 -->\n<g id=\"node11\" class=\"node\">\n<title>10</title>\n<polygon fill=\"#c1ffc1\" stroke=\"transparent\" points=\"252,-1046 3,-1046 3,-1004 252,-1004 252,-1046\"/>\n<polygon fill=\"none\" stroke=\"black\" points=\"3.5,-1004 3.5,-1046 80.5,-1046 80.5,-1004 3.5,-1004\"/>\n<text text-anchor=\"start\" x=\"8.5\" y=\"-1028\" font-family=\"Linux libertine\" font-size=\"10.00\">BatchNorm2d</text>\n<text text-anchor=\"start\" x=\"20.5\" y=\"-1017\" font-family=\"Linux libertine\" font-size=\"10.00\">depth:1</text>\n<polygon fill=\"none\" stroke=\"black\" points=\"80.5,-1025 80.5,-1046 139.5,-1046 139.5,-1025 80.5,-1025\"/>\n<text text-anchor=\"start\" x=\"91.5\" y=\"-1033\" font-family=\"Linux libertine\" font-size=\"10.00\">input:</text>\n<polygon fill=\"none\" stroke=\"black\" points=\"139.5,-1025 139.5,-1046 252.5,-1046 252.5,-1025 139.5,-1025\"/>\n<text text-anchor=\"start\" x=\"144.5\" y=\"-1033\" font-family=\"Linux libertine\" font-size=\"10.00\">(1, 128, 56, 56) </text>\n<polygon fill=\"none\" stroke=\"black\" points=\"80.5,-1004 80.5,-1025 139.5,-1025 139.5,-1004 80.5,-1004\"/>\n<text text-anchor=\"start\" x=\"85.5\" y=\"-1012\" font-family=\"Linux libertine\" font-size=\"10.00\">output: </text>\n<polygon fill=\"none\" stroke=\"black\" points=\"139.5,-1004 139.5,-1025 252.5,-1025 252.5,-1004 139.5,-1004\"/>\n<text text-anchor=\"start\" x=\"144.5\" y=\"-1012\" font-family=\"Linux libertine\" font-size=\"10.00\">(1, 128, 56, 56) </text>\n</g>\n<!-- 9&#45;&gt;10 -->\n<g id=\"edge10\" class=\"edge\">\n<title>9&#45;&gt;10</title>\n<path fill=\"none\" stroke=\"black\" d=\"M127.5,-1081.63C127.5,-1073.82 127.5,-1064.73 127.5,-1056.18\"/>\n<polygon fill=\"black\" stroke=\"black\" points=\"131,-1056.16 127.5,-1046.16 124,-1056.16 131,-1056.16\"/>\n</g>\n<!-- 11 -->\n<g id=\"node12\" class=\"node\">\n<title>11</title>\n<polygon fill=\"#c1ffc1\" stroke=\"transparent\" points=\"240,-968 15,-968 15,-926 240,-926 240,-968\"/>\n<polygon fill=\"none\" stroke=\"black\" points=\"15.5,-926 15.5,-968 68.5,-968 68.5,-926 15.5,-926\"/>\n<text text-anchor=\"start\" x=\"29.5\" y=\"-950\" font-family=\"Linux libertine\" font-size=\"10.00\">ReLU</text>\n<text text-anchor=\"start\" x=\"20.5\" y=\"-939\" font-family=\"Linux libertine\" font-size=\"10.00\">depth:1</text>\n<polygon fill=\"none\" stroke=\"black\" points=\"68.5,-947 68.5,-968 127.5,-968 127.5,-947 68.5,-947\"/>\n<text text-anchor=\"start\" x=\"79.5\" y=\"-955\" font-family=\"Linux libertine\" font-size=\"10.00\">input:</text>\n<polygon fill=\"none\" stroke=\"black\" points=\"127.5,-947 127.5,-968 240.5,-968 240.5,-947 127.5,-947\"/>\n<text text-anchor=\"start\" x=\"132.5\" y=\"-955\" font-family=\"Linux libertine\" font-size=\"10.00\">(1, 128, 56, 56) </text>\n<polygon fill=\"none\" stroke=\"black\" points=\"68.5,-926 68.5,-947 127.5,-947 127.5,-926 68.5,-926\"/>\n<text text-anchor=\"start\" x=\"73.5\" y=\"-934\" font-family=\"Linux libertine\" font-size=\"10.00\">output: </text>\n<polygon fill=\"none\" stroke=\"black\" points=\"127.5,-926 127.5,-947 240.5,-947 240.5,-926 127.5,-926\"/>\n<text text-anchor=\"start\" x=\"132.5\" y=\"-934\" font-family=\"Linux libertine\" font-size=\"10.00\">(1, 128, 56, 56) </text>\n</g>\n<!-- 10&#45;&gt;11 -->\n<g id=\"edge11\" class=\"edge\">\n<title>10&#45;&gt;11</title>\n<path fill=\"none\" stroke=\"black\" d=\"M127.5,-1003.63C127.5,-995.82 127.5,-986.73 127.5,-978.18\"/>\n<polygon fill=\"black\" stroke=\"black\" points=\"131,-978.16 127.5,-968.16 124,-978.16 131,-978.16\"/>\n</g>\n<!-- 12 -->\n<g id=\"node13\" class=\"node\">\n<title>12</title>\n<polygon fill=\"#c1ffc1\" stroke=\"transparent\" points=\"246,-890 9,-890 9,-848 246,-848 246,-890\"/>\n<polygon fill=\"none\" stroke=\"black\" points=\"9.5,-848 9.5,-890 74.5,-890 74.5,-848 9.5,-848\"/>\n<text text-anchor=\"start\" x=\"14.5\" y=\"-872\" font-family=\"Linux libertine\" font-size=\"10.00\">MaxPool2d</text>\n<text text-anchor=\"start\" x=\"20.5\" y=\"-861\" font-family=\"Linux libertine\" font-size=\"10.00\">depth:1</text>\n<polygon fill=\"none\" stroke=\"black\" points=\"74.5,-869 74.5,-890 133.5,-890 133.5,-869 74.5,-869\"/>\n<text text-anchor=\"start\" x=\"85.5\" y=\"-877\" font-family=\"Linux libertine\" font-size=\"10.00\">input:</text>\n<polygon fill=\"none\" stroke=\"black\" points=\"133.5,-869 133.5,-890 246.5,-890 246.5,-869 133.5,-869\"/>\n<text text-anchor=\"start\" x=\"138.5\" y=\"-877\" font-family=\"Linux libertine\" font-size=\"10.00\">(1, 128, 56, 56) </text>\n<polygon fill=\"none\" stroke=\"black\" points=\"74.5,-848 74.5,-869 133.5,-869 133.5,-848 74.5,-848\"/>\n<text text-anchor=\"start\" x=\"79.5\" y=\"-856\" font-family=\"Linux libertine\" font-size=\"10.00\">output: </text>\n<polygon fill=\"none\" stroke=\"black\" points=\"133.5,-848 133.5,-869 246.5,-869 246.5,-848 133.5,-848\"/>\n<text text-anchor=\"start\" x=\"138.5\" y=\"-856\" font-family=\"Linux libertine\" font-size=\"10.00\">(1, 128, 28, 28) </text>\n</g>\n<!-- 11&#45;&gt;12 -->\n<g id=\"edge12\" class=\"edge\">\n<title>11&#45;&gt;12</title>\n<path fill=\"none\" stroke=\"black\" d=\"M127.5,-925.63C127.5,-917.82 127.5,-908.73 127.5,-900.18\"/>\n<polygon fill=\"black\" stroke=\"black\" points=\"131,-900.16 127.5,-890.16 124,-900.16 131,-900.16\"/>\n</g>\n<!-- 13 -->\n<g id=\"node14\" class=\"node\">\n<title>13</title>\n<polygon fill=\"#c1ffc1\" stroke=\"transparent\" points=\"240,-812 15,-812 15,-770 240,-770 240,-812\"/>\n<polygon fill=\"none\" stroke=\"black\" points=\"15.5,-770 15.5,-812 68.5,-812 68.5,-770 15.5,-770\"/>\n<text text-anchor=\"start\" x=\"23.5\" y=\"-794\" font-family=\"Linux libertine\" font-size=\"10.00\">Conv2d</text>\n<text text-anchor=\"start\" x=\"20.5\" y=\"-783\" font-family=\"Linux libertine\" font-size=\"10.00\">depth:1</text>\n<polygon fill=\"none\" stroke=\"black\" points=\"68.5,-791 68.5,-812 127.5,-812 127.5,-791 68.5,-791\"/>\n<text text-anchor=\"start\" x=\"79.5\" y=\"-799\" font-family=\"Linux libertine\" font-size=\"10.00\">input:</text>\n<polygon fill=\"none\" stroke=\"black\" points=\"127.5,-791 127.5,-812 240.5,-812 240.5,-791 127.5,-791\"/>\n<text text-anchor=\"start\" x=\"132.5\" y=\"-799\" font-family=\"Linux libertine\" font-size=\"10.00\">(1, 128, 28, 28) </text>\n<polygon fill=\"none\" stroke=\"black\" points=\"68.5,-770 68.5,-791 127.5,-791 127.5,-770 68.5,-770\"/>\n<text text-anchor=\"start\" x=\"73.5\" y=\"-778\" font-family=\"Linux libertine\" font-size=\"10.00\">output: </text>\n<polygon fill=\"none\" stroke=\"black\" points=\"127.5,-770 127.5,-791 240.5,-791 240.5,-770 127.5,-770\"/>\n<text text-anchor=\"start\" x=\"132.5\" y=\"-778\" font-family=\"Linux libertine\" font-size=\"10.00\">(1, 256, 28, 28) </text>\n</g>\n<!-- 12&#45;&gt;13 -->\n<g id=\"edge13\" class=\"edge\">\n<title>12&#45;&gt;13</title>\n<path fill=\"none\" stroke=\"black\" d=\"M127.5,-847.63C127.5,-839.82 127.5,-830.73 127.5,-822.18\"/>\n<polygon fill=\"black\" stroke=\"black\" points=\"131,-822.16 127.5,-812.16 124,-822.16 131,-822.16\"/>\n</g>\n<!-- 14 -->\n<g id=\"node15\" class=\"node\">\n<title>14</title>\n<polygon fill=\"#c1ffc1\" stroke=\"transparent\" points=\"252,-734 3,-734 3,-692 252,-692 252,-734\"/>\n<polygon fill=\"none\" stroke=\"black\" points=\"3.5,-692 3.5,-734 80.5,-734 80.5,-692 3.5,-692\"/>\n<text text-anchor=\"start\" x=\"8.5\" y=\"-716\" font-family=\"Linux libertine\" font-size=\"10.00\">BatchNorm2d</text>\n<text text-anchor=\"start\" x=\"20.5\" y=\"-705\" font-family=\"Linux libertine\" font-size=\"10.00\">depth:1</text>\n<polygon fill=\"none\" stroke=\"black\" points=\"80.5,-713 80.5,-734 139.5,-734 139.5,-713 80.5,-713\"/>\n<text text-anchor=\"start\" x=\"91.5\" y=\"-721\" font-family=\"Linux libertine\" font-size=\"10.00\">input:</text>\n<polygon fill=\"none\" stroke=\"black\" points=\"139.5,-713 139.5,-734 252.5,-734 252.5,-713 139.5,-713\"/>\n<text text-anchor=\"start\" x=\"144.5\" y=\"-721\" font-family=\"Linux libertine\" font-size=\"10.00\">(1, 256, 28, 28) </text>\n<polygon fill=\"none\" stroke=\"black\" points=\"80.5,-692 80.5,-713 139.5,-713 139.5,-692 80.5,-692\"/>\n<text text-anchor=\"start\" x=\"85.5\" y=\"-700\" font-family=\"Linux libertine\" font-size=\"10.00\">output: </text>\n<polygon fill=\"none\" stroke=\"black\" points=\"139.5,-692 139.5,-713 252.5,-713 252.5,-692 139.5,-692\"/>\n<text text-anchor=\"start\" x=\"144.5\" y=\"-700\" font-family=\"Linux libertine\" font-size=\"10.00\">(1, 256, 28, 28) </text>\n</g>\n<!-- 13&#45;&gt;14 -->\n<g id=\"edge14\" class=\"edge\">\n<title>13&#45;&gt;14</title>\n<path fill=\"none\" stroke=\"black\" d=\"M127.5,-769.63C127.5,-761.82 127.5,-752.73 127.5,-744.18\"/>\n<polygon fill=\"black\" stroke=\"black\" points=\"131,-744.16 127.5,-734.16 124,-744.16 131,-744.16\"/>\n</g>\n<!-- 15 -->\n<g id=\"node16\" class=\"node\">\n<title>15</title>\n<polygon fill=\"#c1ffc1\" stroke=\"transparent\" points=\"240,-656 15,-656 15,-614 240,-614 240,-656\"/>\n<polygon fill=\"none\" stroke=\"black\" points=\"15.5,-614 15.5,-656 68.5,-656 68.5,-614 15.5,-614\"/>\n<text text-anchor=\"start\" x=\"29.5\" y=\"-638\" font-family=\"Linux libertine\" font-size=\"10.00\">ReLU</text>\n<text text-anchor=\"start\" x=\"20.5\" y=\"-627\" font-family=\"Linux libertine\" font-size=\"10.00\">depth:1</text>\n<polygon fill=\"none\" stroke=\"black\" points=\"68.5,-635 68.5,-656 127.5,-656 127.5,-635 68.5,-635\"/>\n<text text-anchor=\"start\" x=\"79.5\" y=\"-643\" font-family=\"Linux libertine\" font-size=\"10.00\">input:</text>\n<polygon fill=\"none\" stroke=\"black\" points=\"127.5,-635 127.5,-656 240.5,-656 240.5,-635 127.5,-635\"/>\n<text text-anchor=\"start\" x=\"132.5\" y=\"-643\" font-family=\"Linux libertine\" font-size=\"10.00\">(1, 256, 28, 28) </text>\n<polygon fill=\"none\" stroke=\"black\" points=\"68.5,-614 68.5,-635 127.5,-635 127.5,-614 68.5,-614\"/>\n<text text-anchor=\"start\" x=\"73.5\" y=\"-622\" font-family=\"Linux libertine\" font-size=\"10.00\">output: </text>\n<polygon fill=\"none\" stroke=\"black\" points=\"127.5,-614 127.5,-635 240.5,-635 240.5,-614 127.5,-614\"/>\n<text text-anchor=\"start\" x=\"132.5\" y=\"-622\" font-family=\"Linux libertine\" font-size=\"10.00\">(1, 256, 28, 28) </text>\n</g>\n<!-- 14&#45;&gt;15 -->\n<g id=\"edge15\" class=\"edge\">\n<title>14&#45;&gt;15</title>\n<path fill=\"none\" stroke=\"black\" d=\"M127.5,-691.63C127.5,-683.82 127.5,-674.73 127.5,-666.18\"/>\n<polygon fill=\"black\" stroke=\"black\" points=\"131,-666.16 127.5,-656.16 124,-666.16 131,-666.16\"/>\n</g>\n<!-- 16 -->\n<g id=\"node17\" class=\"node\">\n<title>16</title>\n<polygon fill=\"#c1ffc1\" stroke=\"transparent\" points=\"246,-578 9,-578 9,-536 246,-536 246,-578\"/>\n<polygon fill=\"none\" stroke=\"black\" points=\"9.5,-536 9.5,-578 74.5,-578 74.5,-536 9.5,-536\"/>\n<text text-anchor=\"start\" x=\"14.5\" y=\"-560\" font-family=\"Linux libertine\" font-size=\"10.00\">MaxPool2d</text>\n<text text-anchor=\"start\" x=\"20.5\" y=\"-549\" font-family=\"Linux libertine\" font-size=\"10.00\">depth:1</text>\n<polygon fill=\"none\" stroke=\"black\" points=\"74.5,-557 74.5,-578 133.5,-578 133.5,-557 74.5,-557\"/>\n<text text-anchor=\"start\" x=\"85.5\" y=\"-565\" font-family=\"Linux libertine\" font-size=\"10.00\">input:</text>\n<polygon fill=\"none\" stroke=\"black\" points=\"133.5,-557 133.5,-578 246.5,-578 246.5,-557 133.5,-557\"/>\n<text text-anchor=\"start\" x=\"138.5\" y=\"-565\" font-family=\"Linux libertine\" font-size=\"10.00\">(1, 256, 28, 28) </text>\n<polygon fill=\"none\" stroke=\"black\" points=\"74.5,-536 74.5,-557 133.5,-557 133.5,-536 74.5,-536\"/>\n<text text-anchor=\"start\" x=\"79.5\" y=\"-544\" font-family=\"Linux libertine\" font-size=\"10.00\">output: </text>\n<polygon fill=\"none\" stroke=\"black\" points=\"133.5,-536 133.5,-557 246.5,-557 246.5,-536 133.5,-536\"/>\n<text text-anchor=\"start\" x=\"138.5\" y=\"-544\" font-family=\"Linux libertine\" font-size=\"10.00\">(1, 256, 14, 14) </text>\n</g>\n<!-- 15&#45;&gt;16 -->\n<g id=\"edge16\" class=\"edge\">\n<title>15&#45;&gt;16</title>\n<path fill=\"none\" stroke=\"black\" d=\"M127.5,-613.63C127.5,-605.82 127.5,-596.73 127.5,-588.18\"/>\n<polygon fill=\"black\" stroke=\"black\" points=\"131,-588.16 127.5,-578.16 124,-588.16 131,-588.16\"/>\n</g>\n<!-- 17 -->\n<g id=\"node18\" class=\"node\">\n<title>17</title>\n<polygon fill=\"aliceblue\" stroke=\"transparent\" points=\"240,-500 15,-500 15,-458 240,-458 240,-500\"/>\n<polygon fill=\"none\" stroke=\"black\" points=\"15.5,-458 15.5,-500 68.5,-500 68.5,-458 15.5,-458\"/>\n<text text-anchor=\"start\" x=\"29.5\" y=\"-482\" font-family=\"Linux libertine\" font-size=\"10.00\">view</text>\n<text text-anchor=\"start\" x=\"20.5\" y=\"-471\" font-family=\"Linux libertine\" font-size=\"10.00\">depth:1</text>\n<polygon fill=\"none\" stroke=\"black\" points=\"68.5,-479 68.5,-500 127.5,-500 127.5,-479 68.5,-479\"/>\n<text text-anchor=\"start\" x=\"79.5\" y=\"-487\" font-family=\"Linux libertine\" font-size=\"10.00\">input:</text>\n<polygon fill=\"none\" stroke=\"black\" points=\"127.5,-479 127.5,-500 240.5,-500 240.5,-479 127.5,-479\"/>\n<text text-anchor=\"start\" x=\"132.5\" y=\"-487\" font-family=\"Linux libertine\" font-size=\"10.00\">(1, 256, 14, 14) </text>\n<polygon fill=\"none\" stroke=\"black\" points=\"68.5,-458 68.5,-479 127.5,-479 127.5,-458 68.5,-458\"/>\n<text text-anchor=\"start\" x=\"73.5\" y=\"-466\" font-family=\"Linux libertine\" font-size=\"10.00\">output: </text>\n<polygon fill=\"none\" stroke=\"black\" points=\"127.5,-458 127.5,-479 240.5,-479 240.5,-458 127.5,-458\"/>\n<text text-anchor=\"start\" x=\"150.5\" y=\"-466\" font-family=\"Linux libertine\" font-size=\"10.00\">(1, 50176) </text>\n</g>\n<!-- 16&#45;&gt;17 -->\n<g id=\"edge17\" class=\"edge\">\n<title>16&#45;&gt;17</title>\n<path fill=\"none\" stroke=\"black\" d=\"M127.5,-535.63C127.5,-527.82 127.5,-518.73 127.5,-510.18\"/>\n<polygon fill=\"black\" stroke=\"black\" points=\"131,-510.16 127.5,-500.16 124,-510.16 131,-510.16\"/>\n</g>\n<!-- 18 -->\n<g id=\"node19\" class=\"node\">\n<title>18</title>\n<polygon fill=\"aliceblue\" stroke=\"transparent\" points=\"222,-422 33,-422 33,-380 222,-380 222,-422\"/>\n<polygon fill=\"none\" stroke=\"black\" points=\"33.5,-380 33.5,-422 86.5,-422 86.5,-380 33.5,-380\"/>\n<text text-anchor=\"start\" x=\"38.5\" y=\"-404\" font-family=\"Linux libertine\" font-size=\"10.00\">flatten</text>\n<text text-anchor=\"start\" x=\"38.5\" y=\"-393\" font-family=\"Linux libertine\" font-size=\"10.00\">depth:1</text>\n<polygon fill=\"none\" stroke=\"black\" points=\"86.5,-401 86.5,-422 145.5,-422 145.5,-401 86.5,-401\"/>\n<text text-anchor=\"start\" x=\"97.5\" y=\"-409\" font-family=\"Linux libertine\" font-size=\"10.00\">input:</text>\n<polygon fill=\"none\" stroke=\"black\" points=\"145.5,-401 145.5,-422 222.5,-422 222.5,-401 145.5,-401\"/>\n<text text-anchor=\"start\" x=\"150.5\" y=\"-409\" font-family=\"Linux libertine\" font-size=\"10.00\">(1, 50176) </text>\n<polygon fill=\"none\" stroke=\"black\" points=\"86.5,-380 86.5,-401 145.5,-401 145.5,-380 86.5,-380\"/>\n<text text-anchor=\"start\" x=\"91.5\" y=\"-388\" font-family=\"Linux libertine\" font-size=\"10.00\">output: </text>\n<polygon fill=\"none\" stroke=\"black\" points=\"145.5,-380 145.5,-401 222.5,-401 222.5,-380 145.5,-380\"/>\n<text text-anchor=\"start\" x=\"150.5\" y=\"-388\" font-family=\"Linux libertine\" font-size=\"10.00\">(1, 50176) </text>\n</g>\n<!-- 17&#45;&gt;18 -->\n<g id=\"edge18\" class=\"edge\">\n<title>17&#45;&gt;18</title>\n<path fill=\"none\" stroke=\"black\" d=\"M127.5,-457.63C127.5,-449.82 127.5,-440.73 127.5,-432.18\"/>\n<polygon fill=\"black\" stroke=\"black\" points=\"131,-432.16 127.5,-422.16 124,-432.16 131,-432.16\"/>\n</g>\n<!-- 19 -->\n<g id=\"node20\" class=\"node\">\n<title>19</title>\n<polygon fill=\"#c1ffc1\" stroke=\"transparent\" points=\"222,-344 33,-344 33,-302 222,-302 222,-344\"/>\n<polygon fill=\"none\" stroke=\"black\" points=\"33.5,-302 33.5,-344 86.5,-344 86.5,-302 33.5,-302\"/>\n<text text-anchor=\"start\" x=\"41.5\" y=\"-326\" font-family=\"Linux libertine\" font-size=\"10.00\">Linear</text>\n<text text-anchor=\"start\" x=\"38.5\" y=\"-315\" font-family=\"Linux libertine\" font-size=\"10.00\">depth:1</text>\n<polygon fill=\"none\" stroke=\"black\" points=\"86.5,-323 86.5,-344 145.5,-344 145.5,-323 86.5,-323\"/>\n<text text-anchor=\"start\" x=\"97.5\" y=\"-331\" font-family=\"Linux libertine\" font-size=\"10.00\">input:</text>\n<polygon fill=\"none\" stroke=\"black\" points=\"145.5,-323 145.5,-344 222.5,-344 222.5,-323 145.5,-323\"/>\n<text text-anchor=\"start\" x=\"150.5\" y=\"-331\" font-family=\"Linux libertine\" font-size=\"10.00\">(1, 50176) </text>\n<polygon fill=\"none\" stroke=\"black\" points=\"86.5,-302 86.5,-323 145.5,-323 145.5,-302 86.5,-302\"/>\n<text text-anchor=\"start\" x=\"91.5\" y=\"-310\" font-family=\"Linux libertine\" font-size=\"10.00\">output: </text>\n<polygon fill=\"none\" stroke=\"black\" points=\"145.5,-302 145.5,-323 222.5,-323 222.5,-302 145.5,-302\"/>\n<text text-anchor=\"start\" x=\"156.5\" y=\"-310\" font-family=\"Linux libertine\" font-size=\"10.00\">(1, 512) </text>\n</g>\n<!-- 18&#45;&gt;19 -->\n<g id=\"edge19\" class=\"edge\">\n<title>18&#45;&gt;19</title>\n<path fill=\"none\" stroke=\"black\" d=\"M127.5,-379.63C127.5,-371.82 127.5,-362.73 127.5,-354.18\"/>\n<polygon fill=\"black\" stroke=\"black\" points=\"131,-354.16 127.5,-344.16 124,-354.16 131,-354.16\"/>\n</g>\n<!-- 20 -->\n<g id=\"node21\" class=\"node\">\n<title>20</title>\n<polygon fill=\"#c1ffc1\" stroke=\"transparent\" points=\"216,-266 39,-266 39,-224 216,-224 216,-266\"/>\n<polygon fill=\"none\" stroke=\"black\" points=\"39.5,-224 39.5,-266 92.5,-266 92.5,-224 39.5,-224\"/>\n<text text-anchor=\"start\" x=\"53.5\" y=\"-248\" font-family=\"Linux libertine\" font-size=\"10.00\">ReLU</text>\n<text text-anchor=\"start\" x=\"44.5\" y=\"-237\" font-family=\"Linux libertine\" font-size=\"10.00\">depth:1</text>\n<polygon fill=\"none\" stroke=\"black\" points=\"92.5,-245 92.5,-266 151.5,-266 151.5,-245 92.5,-245\"/>\n<text text-anchor=\"start\" x=\"103.5\" y=\"-253\" font-family=\"Linux libertine\" font-size=\"10.00\">input:</text>\n<polygon fill=\"none\" stroke=\"black\" points=\"151.5,-245 151.5,-266 216.5,-266 216.5,-245 151.5,-245\"/>\n<text text-anchor=\"start\" x=\"156.5\" y=\"-253\" font-family=\"Linux libertine\" font-size=\"10.00\">(1, 512) </text>\n<polygon fill=\"none\" stroke=\"black\" points=\"92.5,-224 92.5,-245 151.5,-245 151.5,-224 92.5,-224\"/>\n<text text-anchor=\"start\" x=\"97.5\" y=\"-232\" font-family=\"Linux libertine\" font-size=\"10.00\">output: </text>\n<polygon fill=\"none\" stroke=\"black\" points=\"151.5,-224 151.5,-245 216.5,-245 216.5,-224 151.5,-224\"/>\n<text text-anchor=\"start\" x=\"156.5\" y=\"-232\" font-family=\"Linux libertine\" font-size=\"10.00\">(1, 512) </text>\n</g>\n<!-- 19&#45;&gt;20 -->\n<g id=\"edge20\" class=\"edge\">\n<title>19&#45;&gt;20</title>\n<path fill=\"none\" stroke=\"black\" d=\"M127.5,-301.63C127.5,-293.82 127.5,-284.73 127.5,-276.18\"/>\n<polygon fill=\"black\" stroke=\"black\" points=\"131,-276.16 127.5,-266.16 124,-276.16 131,-276.16\"/>\n</g>\n<!-- 21 -->\n<g id=\"node22\" class=\"node\">\n<title>21</title>\n<polygon fill=\"#c1ffc1\" stroke=\"transparent\" points=\"216,-188 39,-188 39,-146 216,-146 216,-188\"/>\n<polygon fill=\"none\" stroke=\"black\" points=\"39.5,-146 39.5,-188 92.5,-188 92.5,-146 39.5,-146\"/>\n<text text-anchor=\"start\" x=\"44.5\" y=\"-170\" font-family=\"Linux libertine\" font-size=\"10.00\">Dropout</text>\n<text text-anchor=\"start\" x=\"44.5\" y=\"-159\" font-family=\"Linux libertine\" font-size=\"10.00\">depth:1</text>\n<polygon fill=\"none\" stroke=\"black\" points=\"92.5,-167 92.5,-188 151.5,-188 151.5,-167 92.5,-167\"/>\n<text text-anchor=\"start\" x=\"103.5\" y=\"-175\" font-family=\"Linux libertine\" font-size=\"10.00\">input:</text>\n<polygon fill=\"none\" stroke=\"black\" points=\"151.5,-167 151.5,-188 216.5,-188 216.5,-167 151.5,-167\"/>\n<text text-anchor=\"start\" x=\"156.5\" y=\"-175\" font-family=\"Linux libertine\" font-size=\"10.00\">(1, 512) </text>\n<polygon fill=\"none\" stroke=\"black\" points=\"92.5,-146 92.5,-167 151.5,-167 151.5,-146 92.5,-146\"/>\n<text text-anchor=\"start\" x=\"97.5\" y=\"-154\" font-family=\"Linux libertine\" font-size=\"10.00\">output: </text>\n<polygon fill=\"none\" stroke=\"black\" points=\"151.5,-146 151.5,-167 216.5,-167 216.5,-146 151.5,-146\"/>\n<text text-anchor=\"start\" x=\"156.5\" y=\"-154\" font-family=\"Linux libertine\" font-size=\"10.00\">(1, 512) </text>\n</g>\n<!-- 20&#45;&gt;21 -->\n<g id=\"edge21\" class=\"edge\">\n<title>20&#45;&gt;21</title>\n<path fill=\"none\" stroke=\"black\" d=\"M127.5,-223.63C127.5,-215.82 127.5,-206.73 127.5,-198.18\"/>\n<polygon fill=\"black\" stroke=\"black\" points=\"131,-198.16 127.5,-188.16 124,-198.16 131,-198.16\"/>\n</g>\n<!-- 22 -->\n<g id=\"node23\" class=\"node\">\n<title>22</title>\n<polygon fill=\"#c1ffc1\" stroke=\"transparent\" points=\"216,-110 39,-110 39,-68 216,-68 216,-110\"/>\n<polygon fill=\"none\" stroke=\"black\" points=\"39.5,-68 39.5,-110 92.5,-110 92.5,-68 39.5,-68\"/>\n<text text-anchor=\"start\" x=\"47.5\" y=\"-92\" font-family=\"Linux libertine\" font-size=\"10.00\">Linear</text>\n<text text-anchor=\"start\" x=\"44.5\" y=\"-81\" font-family=\"Linux libertine\" font-size=\"10.00\">depth:1</text>\n<polygon fill=\"none\" stroke=\"black\" points=\"92.5,-89 92.5,-110 151.5,-110 151.5,-89 92.5,-89\"/>\n<text text-anchor=\"start\" x=\"103.5\" y=\"-97\" font-family=\"Linux libertine\" font-size=\"10.00\">input:</text>\n<polygon fill=\"none\" stroke=\"black\" points=\"151.5,-89 151.5,-110 216.5,-110 216.5,-89 151.5,-89\"/>\n<text text-anchor=\"start\" x=\"156.5\" y=\"-97\" font-family=\"Linux libertine\" font-size=\"10.00\">(1, 512) </text>\n<polygon fill=\"none\" stroke=\"black\" points=\"92.5,-68 92.5,-89 151.5,-89 151.5,-68 92.5,-68\"/>\n<text text-anchor=\"start\" x=\"97.5\" y=\"-76\" font-family=\"Linux libertine\" font-size=\"10.00\">output: </text>\n<polygon fill=\"none\" stroke=\"black\" points=\"151.5,-68 151.5,-89 216.5,-89 216.5,-68 151.5,-68\"/>\n<text text-anchor=\"start\" x=\"162.5\" y=\"-76\" font-family=\"Linux libertine\" font-size=\"10.00\">(1, 2) </text>\n</g>\n<!-- 21&#45;&gt;22 -->\n<g id=\"edge22\" class=\"edge\">\n<title>21&#45;&gt;22</title>\n<path fill=\"none\" stroke=\"black\" d=\"M127.5,-145.63C127.5,-137.82 127.5,-128.73 127.5,-120.18\"/>\n<polygon fill=\"black\" stroke=\"black\" points=\"131,-120.16 127.5,-110.16 124,-120.16 131,-120.16\"/>\n</g>\n<!-- 23 -->\n<g id=\"node24\" class=\"node\">\n<title>23</title>\n<polygon fill=\"lightyellow\" stroke=\"transparent\" points=\"195.5,-32 59.5,-32 59.5,0 195.5,0 195.5,-32\"/>\n<polygon fill=\"none\" stroke=\"black\" points=\"59.5,0 59.5,-32 148.5,-32 148.5,0 59.5,0\"/>\n<text text-anchor=\"start\" x=\"64.5\" y=\"-19\" font-family=\"Linux libertine\" font-size=\"10.00\">output&#45;tensor</text>\n<text text-anchor=\"start\" x=\"82.5\" y=\"-8\" font-family=\"Linux libertine\" font-size=\"10.00\">depth:0</text>\n<polygon fill=\"none\" stroke=\"black\" points=\"148.5,0 148.5,-32 195.5,-32 195.5,0 148.5,0\"/>\n<text text-anchor=\"start\" x=\"153.5\" y=\"-13.5\" font-family=\"Linux libertine\" font-size=\"10.00\">(1, 2)</text>\n</g>\n<!-- 22&#45;&gt;23 -->\n<g id=\"edge23\" class=\"edge\">\n<title>22&#45;&gt;23</title>\n<path fill=\"none\" stroke=\"black\" d=\"M127.5,-67.84C127.5,-59.89 127.5,-50.66 127.5,-42.26\"/>\n<polygon fill=\"black\" stroke=\"black\" points=\"131,-42.24 127.5,-32.24 124,-42.24 131,-42.24\"/>\n</g>\n</g>\n</svg>\n",
            "text/plain": [
              "<graphviz.graphs.Digraph at 0x7e315bd75650>"
            ]
          },
          "metadata": {},
          "execution_count": 70
        }
      ]
    }
  ]
}